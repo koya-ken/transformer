{
  "nbformat": 4,
  "nbformat_minor": 0,
  "metadata": {
    "colab": {
      "name": "work.ipynb",
      "provenance": [],
      "collapsed_sections": [],
      "authorship_tag": "ABX9TyNlVhi7aGkotJMvg5ufEldP",
      "include_colab_link": true
    },
    "kernelspec": {
      "name": "python3",
      "display_name": "Python 3"
    }
  },
  "cells": [
    {
      "cell_type": "markdown",
      "metadata": {
        "id": "view-in-github",
        "colab_type": "text"
      },
      "source": [
        "<a href=\"https://colab.research.google.com/github/koya-ken/transformer/blob/master/work.ipynb\" target=\"_parent\"><img src=\"https://colab.research.google.com/assets/colab-badge.svg\" alt=\"Open In Colab\"/></a>"
      ]
    },
    {
      "cell_type": "code",
      "metadata": {
        "colab": {
          "base_uri": "https://localhost:8080/"
        },
        "id": "P6A5VRN8-jrs",
        "outputId": "1da60238-1b0f-4635-c8cb-17baf0c45b22"
      },
      "source": [
        "!git clone https://github.com/koya-ken/transformer.git"
      ],
      "execution_count": 1,
      "outputs": [
        {
          "output_type": "stream",
          "text": [
            "fatal: destination path 'transformer' already exists and is not an empty directory.\n"
          ],
          "name": "stdout"
        }
      ]
    },
    {
      "cell_type": "code",
      "metadata": {
        "colab": {
          "base_uri": "https://localhost:8080/"
        },
        "id": "xf1TO7t1AhjP",
        "outputId": "3a7c5e17-a6de-4baa-9105-c84fa2f1db61"
      },
      "source": [
        "%cd transformer"
      ],
      "execution_count": 7,
      "outputs": [
        {
          "output_type": "stream",
          "text": [
            "[Errno 2] No such file or directory: 'transformer'\n",
            "/content/transformer\n"
          ],
          "name": "stdout"
        }
      ]
    },
    {
      "cell_type": "code",
      "metadata": {
        "id": "ksUswCvBAjxV"
      },
      "source": [
        "import importlib\n",
        "import data\n",
        "importlib.reload(data.sin_dataset)\n",
        "from data.sin_dataset import SinDataset\n",
        "import torch"
      ],
      "execution_count": 64,
      "outputs": []
    },
    {
      "cell_type": "code",
      "metadata": {
        "id": "Xjyya-eWAmA9"
      },
      "source": [
        "infer_type = 'past'\n",
        "infer_type = 'future'\n",
        "dataset = SinDataset(input_len=100,output_len=50,infer_type=infer_type)"
      ],
      "execution_count": 75,
      "outputs": []
    },
    {
      "cell_type": "code",
      "metadata": {
        "id": "UQgGm62VAog1"
      },
      "source": [
        "import matplotlib.pyplot as plt"
      ],
      "execution_count": 19,
      "outputs": []
    },
    {
      "cell_type": "code",
      "metadata": {
        "colab": {
          "base_uri": "https://localhost:8080/",
          "height": 265
        },
        "id": "60kw2uPWAqXV",
        "outputId": "9cd49903-4a15-4c25-a47f-1a616c6bf0c8"
      },
      "source": [
        "index = 4\n",
        "X = dataset[index][1]\n",
        "Y = dataset[index][3]\n",
        "if infer_type == 'future':\n",
        "  plt.plot(torch.arange(len(X)), X)\n",
        "  plt.plot(torch.arange(len(Y))+len(X),Y)\n",
        "elif infer_type == 'past':\n",
        "  plt.plot(torch.arange(len(Y)), Y)\n",
        "  plt.plot(torch.arange(len(X))+len(Y),X)\n",
        "  \n",
        "# plt.plot(torch.arange(60)+1,torch.cat([ dataset[index][0], dataset[index][1]]))"
      ],
      "execution_count": 76,
      "outputs": [
        {
          "output_type": "display_data",
          "data": {
            "image/png": "[encoded data removed]",
            "text/plain": [
              "<Figure size 432x288 with 1 Axes>"
            ]
          },
          "metadata": {
            "tags": [],
            "needs_background": "light"
          }
        }
      ]
    },
    {
      "cell_type": "code",
      "metadata": {
        "colab": {
          "base_uri": "https://localhost:8080/"
        },
        "id": "MYZKtryxIxfa",
        "outputId": "ff3121e4-362b-4f4d-e1a2-f9dab1cd4371"
      },
      "source": [
        "dataset[index][0],dataset[index][2]"
      ],
      "execution_count": 77,
      "outputs": [
        {
          "output_type": "execute_result",
          "data": {
            "text/plain": [
              "(tensor([ 905.,  906.,  907.,  908.,  909.,  910.,  911.,  912.,  913.,  914.,\n",
              "          915.,  916.,  917.,  918.,  919.,  920.,  921.,  922.,  923.,  924.,\n",
              "          925.,  926.,  927.,  928.,  929.,  930.,  931.,  932.,  933.,  934.,\n",
              "          935.,  936.,  937.,  938.,  939.,  940.,  941.,  942.,  943.,  944.,\n",
              "          945.,  946.,  947.,  948.,  949.,  950.,  951.,  952.,  953.,  954.,\n",
              "          955.,  956.,  957.,  958.,  959.,  960.,  961.,  962.,  963.,  964.,\n",
              "          965.,  966.,  967.,  968.,  969.,  970.,  971.,  972.,  973.,  974.,\n",
              "          975.,  976.,  977.,  978.,  979.,  980.,  981.,  982.,  983.,  984.,\n",
              "          985.,  986.,  987.,  988.,  989.,  990.,  991.,  992.,  993.,  994.,\n",
              "          995.,  996.,  997.,  998.,  999., 1000., 1001., 1002., 1003., 1004.]),\n",
              " tensor([1005., 1006., 1007., 1008., 1009., 1010., 1011., 1012., 1013., 1014.,\n",
              "         1015., 1016., 1017., 1018., 1019., 1020., 1021., 1022., 1023., 1024.,\n",
              "         1025., 1026., 1027., 1028., 1029., 1030., 1031., 1032., 1033., 1034.,\n",
              "         1035., 1036., 1037., 1038., 1039., 1040., 1041., 1042., 1043., 1044.,\n",
              "         1045., 1046., 1047., 1048., 1049., 1050., 1051., 1052., 1053., 1054.]))"
            ]
          },
          "metadata": {
            "tags": []
          },
          "execution_count": 77
        }
      ]
    },
    {
      "cell_type": "code",
      "metadata": {
        "id": "d7b9BRu1Ix8h"
      },
      "source": [
        ""
      ],
      "execution_count": null,
      "outputs": []
    }
  ]
}